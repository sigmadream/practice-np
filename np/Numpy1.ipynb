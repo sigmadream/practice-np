{
 "cells": [
  {
   "cell_type": "markdown",
   "source": [
    "# Numpy\n",
    "\n",
    "## Why?\n",
    "\n",
    "* Tensors <=> ndarrays\n",
    "* Tensor Operations\n",
    "* Vectorization\n",
    "* Efficiency\n",
    "* Other Libraries"
   ],
   "metadata": {
    "collapsed": false,
    "pycharm": {
     "name": "#%% md\n"
    }
   }
  },
  {
   "cell_type": "code",
   "execution_count": 10,
   "outputs": [],
   "source": [
    "import numpy as np"
   ],
   "metadata": {
    "collapsed": false,
    "pycharm": {
     "name": "#%%\n"
    }
   }
  },
  {
   "cell_type": "markdown",
   "source": [
    "## 객체와 ndarrays"
   ],
   "metadata": {
    "collapsed": false,
    "pycharm": {
     "name": "#%% md\n"
    }
   }
  },
  {
   "cell_type": "code",
   "execution_count": 1,
   "outputs": [
    {
     "name": "stdout",
     "output_type": "stream",
     "text": [
      "__add__\n",
      "__class__\n",
      "__class_getitem__\n",
      "__contains__\n",
      "__delattr__\n",
      "__delitem__\n",
      "__dir__\n",
      "__doc__\n",
      "__eq__\n",
      "__format__\n",
      "__ge__\n",
      "__getattribute__\n",
      "__getitem__\n",
      "__gt__\n",
      "__hash__\n",
      "__iadd__\n",
      "__imul__\n",
      "__init__\n",
      "__init_subclass__\n",
      "__iter__\n",
      "__le__\n",
      "__len__\n",
      "__lt__\n",
      "__mul__\n",
      "__ne__\n",
      "__new__\n",
      "__reduce__\n",
      "__reduce_ex__\n",
      "__repr__\n",
      "__reversed__\n",
      "__rmul__\n",
      "__setattr__\n",
      "__setitem__\n",
      "__sizeof__\n",
      "__str__\n",
      "__subclasshook__\n",
      "append\n",
      "clear\n",
      "copy\n",
      "count\n",
      "extend\n",
      "index\n",
      "insert\n",
      "pop\n",
      "remove\n",
      "reverse\n",
      "sort\n"
     ]
    }
   ],
   "source": [
    "a = [1, 2, 3]\n",
    "for attr in dir(a):\n",
    "    print(attr)"
   ],
   "metadata": {
    "collapsed": false,
    "pycharm": {
     "name": "#%%\n"
    }
   }
  },
  {
   "cell_type": "code",
   "execution_count": 5,
   "outputs": [
    {
     "name": "stdout",
     "output_type": "stream",
     "text": [
      "__class__\n",
      "__class_getitem__\n",
      "__contains__\n",
      "__delattr__\n",
      "__delitem__\n",
      "__dir__\n",
      "__doc__\n",
      "__eq__\n",
      "__format__\n",
      "__ge__\n",
      "__getattribute__\n",
      "__getitem__\n",
      "__gt__\n",
      "__hash__\n",
      "__init__\n",
      "__init_subclass__\n",
      "__ior__\n",
      "__iter__\n",
      "__le__\n",
      "__len__\n",
      "__lt__\n",
      "__ne__\n",
      "__new__\n",
      "__or__\n",
      "__reduce__\n",
      "__reduce_ex__\n",
      "__repr__\n",
      "__reversed__\n",
      "__ror__\n",
      "__setattr__\n",
      "__setitem__\n",
      "__sizeof__\n",
      "__str__\n",
      "__subclasshook__\n",
      "clear\n",
      "copy\n",
      "fromkeys\n",
      "get\n",
      "items\n",
      "keys\n",
      "pop\n",
      "popitem\n",
      "setdefault\n",
      "update\n",
      "values\n"
     ]
    }
   ],
   "source": [
    "b = {'a': 0, 'b': 1, 'c': 2}\n",
    "for attr in dir(b):\n",
    "    print(attr)"
   ],
   "metadata": {
    "collapsed": false,
    "pycharm": {
     "name": "#%%\n"
    }
   }
  },
  {
   "cell_type": "code",
   "execution_count": 7,
   "outputs": [
    {
     "name": "stdout",
     "output_type": "stream",
     "text": [
      "('__abs__', '__abs__')\n",
      "('__add__', '__add__')\n",
      "('__and__', '__and__')\n",
      "('__bool__', '__bool__')\n",
      "('__ceil__', '__ceil__')\n",
      "('__class__', '__class__')\n",
      "('__delattr__', '__delattr__')\n",
      "('__dir__', '__dir__')\n",
      "('__divmod__', '__divmod__')\n",
      "('__doc__', '__doc__')\n",
      "('__eq__', '__eq__')\n",
      "('__float__', '__float__')\n",
      "('__floor__', '__floor__')\n",
      "('__floordiv__', '__floordiv__')\n",
      "('__format__', '__format__')\n",
      "('__ge__', '__ge__')\n",
      "('__getattribute__', '__getattribute__')\n",
      "('__getnewargs__', '__getnewargs__')\n",
      "('__gt__', '__gt__')\n",
      "('__hash__', '__hash__')\n",
      "('__index__', '__index__')\n",
      "('__init__', '__init__')\n",
      "('__init_subclass__', '__init_subclass__')\n",
      "('__int__', '__int__')\n",
      "('__invert__', '__invert__')\n",
      "('__le__', '__le__')\n",
      "('__lshift__', '__lshift__')\n",
      "('__lt__', '__lt__')\n",
      "('__mod__', '__mod__')\n",
      "('__mul__', '__mul__')\n",
      "('__ne__', '__ne__')\n",
      "('__neg__', '__neg__')\n",
      "('__new__', '__new__')\n",
      "('__or__', '__or__')\n",
      "('__pos__', '__pos__')\n",
      "('__pow__', '__pow__')\n",
      "('__radd__', '__radd__')\n",
      "('__rand__', '__rand__')\n",
      "('__rdivmod__', '__rdivmod__')\n",
      "('__reduce__', '__reduce__')\n",
      "('__reduce_ex__', '__reduce_ex__')\n",
      "('__repr__', '__repr__')\n",
      "('__rfloordiv__', '__rfloordiv__')\n",
      "('__rlshift__', '__rlshift__')\n",
      "('__rmod__', '__rmod__')\n",
      "('__rmul__', '__rmul__')\n",
      "('__ror__', '__ror__')\n",
      "('__round__', '__round__')\n",
      "('__rpow__', '__rpow__')\n",
      "('__rrshift__', '__rrshift__')\n",
      "('__rshift__', '__rshift__')\n",
      "('__rsub__', '__rsub__')\n",
      "('__rtruediv__', '__rtruediv__')\n",
      "('__rxor__', '__rxor__')\n",
      "('__setattr__', '__setattr__')\n",
      "('__sizeof__', '__sizeof__')\n",
      "('__str__', '__str__')\n",
      "('__sub__', '__sub__')\n",
      "('__subclasshook__', '__subclasshook__')\n",
      "('__truediv__', '__truediv__')\n",
      "('__trunc__', '__trunc__')\n",
      "('__xor__', '__xor__')\n",
      "('as_integer_ratio', 'as_integer_ratio')\n",
      "('bit_count', 'bit_count')\n",
      "('bit_length', 'bit_length')\n",
      "('conjugate', 'conjugate')\n",
      "('denominator', 'denominator')\n",
      "('from_bytes', 'from_bytes')\n",
      "('imag', 'imag')\n",
      "('numerator', 'numerator')\n",
      "('real', 'real')\n",
      "('to_bytes', 'to_bytes')\n"
     ]
    }
   ],
   "source": [
    "c, d = 10, 20\n",
    "for attr in zip(dir(c), dir(d)):\n",
    "    print(attr)"
   ],
   "metadata": {
    "collapsed": false,
    "pycharm": {
     "name": "#%%\n"
    }
   }
  },
  {
   "cell_type": "code",
   "execution_count": 8,
   "outputs": [
    {
     "data": {
      "text/plain": "30"
     },
     "execution_count": 8,
     "metadata": {},
     "output_type": "execute_result"
    }
   ],
   "source": [
    "(c + d)"
   ],
   "metadata": {
    "collapsed": false,
    "pycharm": {
     "name": "#%%\n"
    }
   }
  },
  {
   "cell_type": "code",
   "execution_count": 9,
   "outputs": [
    {
     "data": {
      "text/plain": "30"
     },
     "execution_count": 9,
     "metadata": {},
     "output_type": "execute_result"
    }
   ],
   "source": [
    "c.__add__(d)"
   ],
   "metadata": {
    "collapsed": false,
    "pycharm": {
     "name": "#%%\n"
    }
   }
  },
  {
   "cell_type": "code",
   "execution_count": null,
   "outputs": [],
   "source": [],
   "metadata": {
    "collapsed": false,
    "pycharm": {
     "name": "#%%\n"
    }
   }
  }
 ],
 "metadata": {
  "kernelspec": {
   "display_name": "Python 3",
   "language": "python",
   "name": "python3"
  },
  "language_info": {
   "codemirror_mode": {
    "name": "ipython",
    "version": 2
   },
   "file_extension": ".py",
   "mimetype": "text/x-python",
   "name": "python",
   "nbconvert_exporter": "python",
   "pygments_lexer": "ipython2",
   "version": "2.7.6"
  }
 },
 "nbformat": 4,
 "nbformat_minor": 0
}