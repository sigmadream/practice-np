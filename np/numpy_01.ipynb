{
 "cells": [
  {
   "cell_type": "markdown",
   "metadata": {
    "pycharm": {
     "name": "#%% md\n"
    }
   },
   "source": [
    "# Numpy\n",
    "\n",
    "## Why?\n",
    "\n",
    "* Tensors <=> ndarrays\n",
    "* Tensor Operations\n",
    "* Vectorization\n",
    "* Efficiency\n",
    "* Other Libraries"
   ]
  },
  {
   "cell_type": "code",
   "execution_count": 14,
   "metadata": {
    "collapsed": false,
    "execution": {
     "iopub.execute_input": "2022-07-26T17:23:06.474523Z",
     "iopub.status.busy": "2022-07-26T17:23:06.474523Z",
     "iopub.status.idle": "2022-07-26T17:23:06.478522Z",
     "shell.execute_reply": "2022-07-26T17:23:06.478522Z",
     "shell.execute_reply.started": "2022-07-26T17:23:06.474523Z"
    },
    "jupyter": {
     "outputs_hidden": false
    },
    "pycharm": {
     "name": "#%%\n"
    },
    "tags": []
   },
   "outputs": [],
   "source": [
    "import numpy as np"
   ]
  },
  {
   "cell_type": "markdown",
   "metadata": {
    "pycharm": {
     "name": "#%% md\n"
    }
   },
   "source": [
    "## 객체와 ndarrays"
   ]
  },
  {
   "cell_type": "code",
   "execution_count": 15,
   "metadata": {
    "execution": {
     "iopub.execute_input": "2022-07-26T17:23:06.786922Z",
     "iopub.status.busy": "2022-07-26T17:23:06.786922Z",
     "iopub.status.idle": "2022-07-26T17:23:06.790922Z",
     "shell.execute_reply": "2022-07-26T17:23:06.790922Z",
     "shell.execute_reply.started": "2022-07-26T17:23:06.786922Z"
    },
    "tags": []
   },
   "outputs": [],
   "source": [
    "l = [1, 2, 3] # list => object"
   ]
  },
  {
   "cell_type": "code",
   "execution_count": 16,
   "metadata": {
    "execution": {
     "iopub.execute_input": "2022-07-26T17:23:06.954958Z",
     "iopub.status.busy": "2022-07-26T17:23:06.954958Z",
     "iopub.status.idle": "2022-07-26T17:23:06.959959Z",
     "shell.execute_reply": "2022-07-26T17:23:06.959959Z",
     "shell.execute_reply.started": "2022-07-26T17:23:06.954958Z"
    },
    "tags": []
   },
   "outputs": [],
   "source": [
    "l.append(4) # \"append\" method"
   ]
  },
  {
   "cell_type": "code",
   "execution_count": 17,
   "metadata": {
    "execution": {
     "iopub.execute_input": "2022-07-26T17:23:07.220109Z",
     "iopub.status.busy": "2022-07-26T17:23:07.219808Z",
     "iopub.status.idle": "2022-07-26T17:23:07.222110Z",
     "shell.execute_reply": "2022-07-26T17:23:07.222110Z",
     "shell.execute_reply.started": "2022-07-26T17:23:07.220109Z"
    },
    "tags": []
   },
   "outputs": [
    {
     "name": "stdout",
     "output_type": "stream",
     "text": [
      "[1, 2, 3, 4]\n"
     ]
    }
   ],
   "source": [
    "print(l)"
   ]
  },
  {
   "cell_type": "markdown",
   "metadata": {},
   "source": [
    "* `dir()`"
   ]
  },
  {
   "cell_type": "code",
   "execution_count": 18,
   "metadata": {
    "collapsed": false,
    "execution": {
     "iopub.execute_input": "2022-07-26T17:23:07.963477Z",
     "iopub.status.busy": "2022-07-26T17:23:07.963477Z",
     "iopub.status.idle": "2022-07-26T17:23:07.966480Z",
     "shell.execute_reply": "2022-07-26T17:23:07.966480Z",
     "shell.execute_reply.started": "2022-07-26T17:23:07.963477Z"
    },
    "jupyter": {
     "outputs_hidden": false
    },
    "pycharm": {
     "name": "#%%\n"
    },
    "tags": []
   },
   "outputs": [
    {
     "name": "stdout",
     "output_type": "stream",
     "text": [
      "__add__\n",
      "__class__\n",
      "__class_getitem__\n",
      "__contains__\n",
      "__delattr__\n",
      "__delitem__\n",
      "__dir__\n",
      "__doc__\n",
      "__eq__\n",
      "__format__\n",
      "__ge__\n",
      "__getattribute__\n",
      "__getitem__\n",
      "__gt__\n",
      "__hash__\n",
      "__iadd__\n",
      "__imul__\n",
      "__init__\n",
      "__init_subclass__\n",
      "__iter__\n",
      "__le__\n",
      "__len__\n",
      "__lt__\n",
      "__mul__\n",
      "__ne__\n",
      "__new__\n",
      "__reduce__\n",
      "__reduce_ex__\n",
      "__repr__\n",
      "__reversed__\n",
      "__rmul__\n",
      "__setattr__\n",
      "__setitem__\n",
      "__sizeof__\n",
      "__str__\n",
      "__subclasshook__\n",
      "append\n",
      "clear\n",
      "copy\n",
      "count\n",
      "extend\n",
      "index\n",
      "insert\n",
      "pop\n",
      "remove\n",
      "reverse\n",
      "sort\n"
     ]
    }
   ],
   "source": [
    "for attr in dir(l):\n",
    "    print(attr)"
   ]
  },
  {
   "cell_type": "code",
   "execution_count": 19,
   "metadata": {
    "collapsed": false,
    "execution": {
     "iopub.execute_input": "2022-07-26T17:23:15.606432Z",
     "iopub.status.busy": "2022-07-26T17:23:15.606432Z",
     "iopub.status.idle": "2022-07-26T17:23:15.609434Z",
     "shell.execute_reply": "2022-07-26T17:23:15.609434Z",
     "shell.execute_reply.started": "2022-07-26T17:23:15.606432Z"
    },
    "jupyter": {
     "outputs_hidden": false
    },
    "pycharm": {
     "name": "#%%\n"
    }
   },
   "outputs": [
    {
     "name": "stdout",
     "output_type": "stream",
     "text": [
      "__class__\n",
      "__class_getitem__\n",
      "__contains__\n",
      "__delattr__\n",
      "__delitem__\n",
      "__dir__\n",
      "__doc__\n",
      "__eq__\n",
      "__format__\n",
      "__ge__\n",
      "__getattribute__\n",
      "__getitem__\n",
      "__gt__\n",
      "__hash__\n",
      "__init__\n",
      "__init_subclass__\n",
      "__ior__\n",
      "__iter__\n",
      "__le__\n",
      "__len__\n",
      "__lt__\n",
      "__ne__\n",
      "__new__\n",
      "__or__\n",
      "__reduce__\n",
      "__reduce_ex__\n",
      "__repr__\n",
      "__reversed__\n",
      "__ror__\n",
      "__setattr__\n",
      "__setitem__\n",
      "__sizeof__\n",
      "__str__\n",
      "__subclasshook__\n",
      "clear\n",
      "copy\n",
      "fromkeys\n",
      "get\n",
      "items\n",
      "keys\n",
      "pop\n",
      "popitem\n",
      "setdefault\n",
      "update\n",
      "values\n"
     ]
    }
   ],
   "source": [
    "d = {'a': 0, 'b': 1, 'c': 2}\n",
    "for attr in dir(d):\n",
    "    print(attr)"
   ]
  },
  {
   "cell_type": "code",
   "execution_count": 20,
   "metadata": {
    "collapsed": false,
    "execution": {
     "iopub.execute_input": "2022-07-26T17:23:19.203971Z",
     "iopub.status.busy": "2022-07-26T17:23:19.203455Z",
     "iopub.status.idle": "2022-07-26T17:23:19.207973Z",
     "shell.execute_reply": "2022-07-26T17:23:19.207973Z",
     "shell.execute_reply.started": "2022-07-26T17:23:19.203971Z"
    },
    "jupyter": {
     "outputs_hidden": false
    },
    "pycharm": {
     "name": "#%%\n"
    },
    "tags": []
   },
   "outputs": [
    {
     "name": "stdout",
     "output_type": "stream",
     "text": [
      "('__add__', '__add__', '__add__')\n",
      "('__class__', '__class__', '__class__')\n",
      "('__class_getitem__', '__class_getitem__', '__class_getitem__')\n",
      "('__contains__', '__contains__', '__contains__')\n",
      "('__delattr__', '__delattr__', '__delattr__')\n",
      "('__delitem__', '__delitem__', '__delitem__')\n",
      "('__dir__', '__dir__', '__dir__')\n",
      "('__doc__', '__doc__', '__doc__')\n",
      "('__eq__', '__eq__', '__eq__')\n",
      "('__format__', '__format__', '__format__')\n",
      "('__ge__', '__ge__', '__ge__')\n",
      "('__getattribute__', '__getattribute__', '__getattribute__')\n",
      "('__getitem__', '__getitem__', '__getitem__')\n",
      "('__gt__', '__gt__', '__gt__')\n",
      "('__hash__', '__hash__', '__hash__')\n",
      "('__iadd__', '__iadd__', '__iadd__')\n",
      "('__imul__', '__imul__', '__imul__')\n",
      "('__init__', '__init__', '__init__')\n",
      "('__init_subclass__', '__init_subclass__', '__init_subclass__')\n",
      "('__iter__', '__iter__', '__iter__')\n",
      "('__le__', '__le__', '__le__')\n",
      "('__len__', '__len__', '__len__')\n",
      "('__lt__', '__lt__', '__lt__')\n",
      "('__mul__', '__mul__', '__mul__')\n",
      "('__ne__', '__ne__', '__ne__')\n",
      "('__new__', '__new__', '__new__')\n",
      "('__reduce__', '__reduce__', '__reduce__')\n",
      "('__reduce_ex__', '__reduce_ex__', '__reduce_ex__')\n",
      "('__repr__', '__repr__', '__repr__')\n",
      "('__reversed__', '__reversed__', '__reversed__')\n",
      "('__rmul__', '__rmul__', '__rmul__')\n",
      "('__setattr__', '__setattr__', '__setattr__')\n",
      "('__setitem__', '__setitem__', '__setitem__')\n",
      "('__sizeof__', '__sizeof__', '__sizeof__')\n",
      "('__str__', '__str__', '__str__')\n",
      "('__subclasshook__', '__subclasshook__', '__subclasshook__')\n",
      "('append', 'append', 'append')\n",
      "('clear', 'clear', 'clear')\n",
      "('copy', 'copy', 'copy')\n",
      "('count', 'count', 'count')\n",
      "('extend', 'extend', 'extend')\n",
      "('index', 'index', 'index')\n",
      "('insert', 'insert', 'insert')\n",
      "('pop', 'pop', 'pop')\n",
      "('remove', 'remove', 'remove')\n",
      "('reverse', 'reverse', 'reverse')\n",
      "('sort', 'sort', 'sort')\n"
     ]
    }
   ],
   "source": [
    "a = [10, 20, 30, 40, 50]\n",
    "b = [1.5, 2.5, 3.5, 4.5]\n",
    "c = ['a', 'b','c','d']\n",
    "for attr in zip(dir(a), dir(b), dir(c)):\n",
    "    print(attr)"
   ]
  },
  {
   "cell_type": "markdown",
   "metadata": {},
   "source": [
    "## Special Methods"
   ]
  },
  {
   "cell_type": "code",
   "execution_count": 30,
   "metadata": {
    "collapsed": false,
    "execution": {
     "iopub.execute_input": "2022-07-26T17:26:15.573378Z",
     "iopub.status.busy": "2022-07-26T17:26:15.573378Z",
     "iopub.status.idle": "2022-07-26T17:26:15.576377Z",
     "shell.execute_reply": "2022-07-26T17:26:15.576377Z",
     "shell.execute_reply.started": "2022-07-26T17:26:15.573378Z"
    },
    "jupyter": {
     "outputs_hidden": false
    },
    "pycharm": {
     "name": "#%%\n"
    },
    "tags": []
   },
   "outputs": [
    {
     "name": "stdout",
     "output_type": "stream",
     "text": [
      "[10, 20, 30, 40, 50, 1.5, 2.5, 3.5, 4.5]\n",
      "[10, 20, 30, 40, 50, 1.5, 2.5, 3.5, 4.5]\n"
     ]
    }
   ],
   "source": [
    "print(a.__add__(b)) # list\n",
    "print(a + b)"
   ]
  },
  {
   "cell_type": "code",
   "execution_count": 28,
   "metadata": {
    "execution": {
     "iopub.execute_input": "2022-07-26T17:26:00.250952Z",
     "iopub.status.busy": "2022-07-26T17:26:00.250952Z",
     "iopub.status.idle": "2022-07-26T17:26:00.254952Z",
     "shell.execute_reply": "2022-07-26T17:26:00.254952Z",
     "shell.execute_reply.started": "2022-07-26T17:26:00.250952Z"
    },
    "tags": []
   },
   "outputs": [
    {
     "name": "stdout",
     "output_type": "stream",
     "text": [
      "30\n",
      "30\n"
     ]
    }
   ],
   "source": [
    "z1, z2 = 10, 20\n",
    "print(z1.__add__(z2)) # integer\n",
    "print(z1 + z2)"
   ]
  },
  {
   "cell_type": "code",
   "execution_count": 27,
   "metadata": {
    "execution": {
     "iopub.execute_input": "2022-07-26T17:25:37.957608Z",
     "iopub.status.busy": "2022-07-26T17:25:37.957608Z",
     "iopub.status.idle": "2022-07-26T17:25:37.960608Z",
     "shell.execute_reply": "2022-07-26T17:25:37.960608Z",
     "shell.execute_reply.started": "2022-07-26T17:25:37.957608Z"
    }
   },
   "outputs": [
    {
     "name": "stdout",
     "output_type": "stream",
     "text": [
      "5\n",
      "5\n"
     ]
    }
   ],
   "source": [
    "print(len(a))\n",
    "print(a.__len__())"
   ]
  },
  {
   "cell_type": "code",
   "execution_count": 34,
   "metadata": {
    "execution": {
     "iopub.execute_input": "2022-07-26T17:28:41.946815Z",
     "iopub.status.busy": "2022-07-26T17:28:41.946815Z",
     "iopub.status.idle": "2022-07-26T17:28:41.951816Z",
     "shell.execute_reply": "2022-07-26T17:28:41.951816Z",
     "shell.execute_reply.started": "2022-07-26T17:28:41.946815Z"
    },
    "tags": []
   },
   "outputs": [
    {
     "name": "stdout",
     "output_type": "stream",
     "text": [
      "663.9640971641916\n",
      "663.9640971641916\n"
     ]
    }
   ],
   "source": [
    "r1, r2, r3, r4, r5 = 1.2, 3.5, 4.2, 5.2, 5.1\n",
    "result1 = (r1+r2)**r3 - (r4/r5)\n",
    "result2 = ((r1.__add__(r2)).__pow__(r3)).__sub__(r4.__truediv__(r5))\n",
    "print(result1)\n",
    "print(result2)"
   ]
  },
  {
   "cell_type": "code",
   "execution_count": 35,
   "metadata": {
    "execution": {
     "iopub.execute_input": "2022-07-26T17:29:30.040245Z",
     "iopub.status.busy": "2022-07-26T17:29:30.040245Z",
     "iopub.status.idle": "2022-07-26T17:29:30.044246Z",
     "shell.execute_reply": "2022-07-26T17:29:30.044246Z",
     "shell.execute_reply.started": "2022-07-26T17:29:30.040245Z"
    }
   },
   "outputs": [],
   "source": [
    "a_list = [1,2,3]\n",
    "b_list = [4,5,6]"
   ]
  },
  {
   "cell_type": "code",
   "execution_count": 36,
   "metadata": {
    "execution": {
     "iopub.execute_input": "2022-07-26T17:29:45.621872Z",
     "iopub.status.busy": "2022-07-26T17:29:45.621872Z",
     "iopub.status.idle": "2022-07-26T17:29:45.625871Z",
     "shell.execute_reply": "2022-07-26T17:29:45.625871Z",
     "shell.execute_reply.started": "2022-07-26T17:29:45.621872Z"
    }
   },
   "outputs": [
    {
     "data": {
      "text/plain": [
       "True"
      ]
     },
     "execution_count": 36,
     "metadata": {},
     "output_type": "execute_result"
    }
   ],
   "source": [
    "a_list + b_list == a_list.__add__(b_list)"
   ]
  },
  {
   "cell_type": "code",
   "execution_count": 40,
   "metadata": {
    "execution": {
     "iopub.execute_input": "2022-07-26T17:30:45.872590Z",
     "iopub.status.busy": "2022-07-26T17:30:45.871591Z",
     "iopub.status.idle": "2022-07-26T17:30:45.874591Z",
     "shell.execute_reply": "2022-07-26T17:30:45.874591Z",
     "shell.execute_reply.started": "2022-07-26T17:30:45.872590Z"
    }
   },
   "outputs": [
    {
     "name": "stdout",
     "output_type": "stream",
     "text": [
      "[1, 2, 3, 4, 5, 6]\n"
     ]
    }
   ],
   "source": [
    "print(a_list + b_list)"
   ]
  },
  {
   "cell_type": "code",
   "execution_count": 37,
   "metadata": {
    "execution": {
     "iopub.execute_input": "2022-07-26T17:30:11.231558Z",
     "iopub.status.busy": "2022-07-26T17:30:11.231558Z",
     "iopub.status.idle": "2022-07-26T17:30:11.245559Z",
     "shell.execute_reply": "2022-07-26T17:30:11.245559Z",
     "shell.execute_reply.started": "2022-07-26T17:30:11.231558Z"
    }
   },
   "outputs": [],
   "source": [
    "a_np = np.array(a_list)\n",
    "b_np = np.array(b_list)"
   ]
  },
  {
   "cell_type": "code",
   "execution_count": 42,
   "metadata": {
    "execution": {
     "iopub.execute_input": "2022-07-26T17:31:13.984675Z",
     "iopub.status.busy": "2022-07-26T17:31:13.984675Z",
     "iopub.status.idle": "2022-07-26T17:31:13.988673Z",
     "shell.execute_reply": "2022-07-26T17:31:13.988673Z",
     "shell.execute_reply.started": "2022-07-26T17:31:13.984675Z"
    },
    "tags": []
   },
   "outputs": [
    {
     "data": {
      "text/plain": [
       "array([ True,  True,  True])"
      ]
     },
     "execution_count": 42,
     "metadata": {},
     "output_type": "execute_result"
    }
   ],
   "source": [
    "a_np.__add__(b_np) == a_np + b_np"
   ]
  },
  {
   "cell_type": "markdown",
   "metadata": {},
   "source": [
    "## ndarray"
   ]
  },
  {
   "cell_type": "code",
   "execution_count": 46,
   "metadata": {
    "execution": {
     "iopub.execute_input": "2022-07-26T17:34:02.100187Z",
     "iopub.status.busy": "2022-07-26T17:34:02.100187Z",
     "iopub.status.idle": "2022-07-26T17:34:02.104188Z",
     "shell.execute_reply": "2022-07-26T17:34:02.104188Z",
     "shell.execute_reply.started": "2022-07-26T17:34:02.100187Z"
    }
   },
   "outputs": [],
   "source": [
    "a_np = np.array([1,2,3])"
   ]
  },
  {
   "cell_type": "code",
   "execution_count": 47,
   "metadata": {
    "execution": {
     "iopub.execute_input": "2022-07-26T17:34:09.153571Z",
     "iopub.status.busy": "2022-07-26T17:34:09.153571Z",
     "iopub.status.idle": "2022-07-26T17:34:09.156572Z",
     "shell.execute_reply": "2022-07-26T17:34:09.156572Z",
     "shell.execute_reply.started": "2022-07-26T17:34:09.153571Z"
    }
   },
   "outputs": [
    {
     "name": "stdout",
     "output_type": "stream",
     "text": [
      "T\n",
      "__abs__\n",
      "__add__\n",
      "__and__\n",
      "__array__\n",
      "__array_finalize__\n",
      "__array_function__\n",
      "__array_interface__\n",
      "__array_prepare__\n",
      "__array_priority__\n",
      "__array_struct__\n",
      "__array_ufunc__\n",
      "__array_wrap__\n",
      "__bool__\n",
      "__class__\n",
      "__class_getitem__\n",
      "__complex__\n",
      "__contains__\n",
      "__copy__\n",
      "__deepcopy__\n",
      "__delattr__\n",
      "__delitem__\n",
      "__dir__\n",
      "__divmod__\n",
      "__dlpack__\n",
      "__dlpack_device__\n",
      "__doc__\n",
      "__eq__\n",
      "__float__\n",
      "__floordiv__\n",
      "__format__\n",
      "__ge__\n",
      "__getattribute__\n",
      "__getitem__\n",
      "__gt__\n",
      "__hash__\n",
      "__iadd__\n",
      "__iand__\n",
      "__ifloordiv__\n",
      "__ilshift__\n",
      "__imatmul__\n",
      "__imod__\n",
      "__imul__\n",
      "__index__\n",
      "__init__\n",
      "__init_subclass__\n",
      "__int__\n",
      "__invert__\n",
      "__ior__\n",
      "__ipow__\n",
      "__irshift__\n",
      "__isub__\n",
      "__iter__\n",
      "__itruediv__\n",
      "__ixor__\n",
      "__le__\n",
      "__len__\n",
      "__lshift__\n",
      "__lt__\n",
      "__matmul__\n",
      "__mod__\n",
      "__mul__\n",
      "__ne__\n",
      "__neg__\n",
      "__new__\n",
      "__or__\n",
      "__pos__\n",
      "__pow__\n",
      "__radd__\n",
      "__rand__\n",
      "__rdivmod__\n",
      "__reduce__\n",
      "__reduce_ex__\n",
      "__repr__\n",
      "__rfloordiv__\n",
      "__rlshift__\n",
      "__rmatmul__\n",
      "__rmod__\n",
      "__rmul__\n",
      "__ror__\n",
      "__rpow__\n",
      "__rrshift__\n",
      "__rshift__\n",
      "__rsub__\n",
      "__rtruediv__\n",
      "__rxor__\n",
      "__setattr__\n",
      "__setitem__\n",
      "__setstate__\n",
      "__sizeof__\n",
      "__str__\n",
      "__sub__\n",
      "__subclasshook__\n",
      "__truediv__\n",
      "__xor__\n",
      "all\n",
      "any\n",
      "argmax\n",
      "argmin\n",
      "argpartition\n",
      "argsort\n",
      "astype\n",
      "base\n",
      "byteswap\n",
      "choose\n",
      "clip\n",
      "compress\n",
      "conj\n",
      "conjugate\n",
      "copy\n",
      "ctypes\n",
      "cumprod\n",
      "cumsum\n",
      "data\n",
      "diagonal\n",
      "dot\n",
      "dtype\n",
      "dump\n",
      "dumps\n",
      "fill\n",
      "flags\n",
      "flat\n",
      "flatten\n",
      "getfield\n",
      "imag\n",
      "item\n",
      "itemset\n",
      "itemsize\n",
      "max\n",
      "mean\n",
      "min\n",
      "nbytes\n",
      "ndim\n",
      "newbyteorder\n",
      "nonzero\n",
      "partition\n",
      "prod\n",
      "ptp\n",
      "put\n",
      "ravel\n",
      "real\n",
      "repeat\n",
      "reshape\n",
      "resize\n",
      "round\n",
      "searchsorted\n",
      "setfield\n",
      "setflags\n",
      "shape\n",
      "size\n",
      "sort\n",
      "squeeze\n",
      "std\n",
      "strides\n",
      "sum\n",
      "swapaxes\n",
      "take\n",
      "tobytes\n",
      "tofile\n",
      "tolist\n",
      "tostring\n",
      "trace\n",
      "transpose\n",
      "var\n",
      "view\n"
     ]
    }
   ],
   "source": [
    "for attr in dir(a_np):\n",
    "    print(attr)"
   ]
  },
  {
   "cell_type": "markdown",
   "metadata": {},
   "source": [
    "### Element-wise operations of ndarrays\n",
    "\n",
    "* $\\vec{u}^{\\,T} = \\begin{array}{clr}( 1 & 2 & 3 ) \\end{array}$\n",
    "* $\\vec{v}^{\\,T} = \\begin{array}{clr}( 4 & 5 & 6 ) \\end{array}$\n",
    "* $\\vec{w}^{\\,T} = \\vec{u}^{\\,T} + \\vec{v}^{\\,T}$\n",
    "    $ = \\begin{array}{clr}( 1 & 2 & 3 ) \\end{array} + \\begin{array}{clr}( 4 & 5 & 6 ) \\end{array}$\n",
    "    $ = \\begin{array}{clr}( 5 & 7 & 9 ) \\end{array}$"
   ]
  },
  {
   "cell_type": "code",
   "execution_count": 50,
   "metadata": {
    "execution": {
     "iopub.execute_input": "2022-07-26T17:59:34.087437Z",
     "iopub.status.busy": "2022-07-26T17:59:34.087437Z",
     "iopub.status.idle": "2022-07-26T17:59:34.091438Z",
     "shell.execute_reply": "2022-07-26T17:59:34.091438Z",
     "shell.execute_reply.started": "2022-07-26T17:59:34.087437Z"
    },
    "tags": []
   },
   "outputs": [
    {
     "name": "stdout",
     "output_type": "stream",
     "text": [
      "[5, 7, 9]\n"
     ]
    }
   ],
   "source": [
    "u = [1,2,3]\n",
    "v = [4,5,6]\n",
    "w = [0] * len(u)\n",
    "\n",
    "for idx in range(len(u)):\n",
    "    w[idx] = u[idx] + v[idx]\n",
    "\n",
    "print(w)"
   ]
  },
  {
   "cell_type": "code",
   "execution_count": 52,
   "metadata": {
    "execution": {
     "iopub.execute_input": "2022-07-26T18:00:19.433892Z",
     "iopub.status.busy": "2022-07-26T18:00:19.433892Z",
     "iopub.status.idle": "2022-07-26T18:00:19.437890Z",
     "shell.execute_reply": "2022-07-26T18:00:19.437890Z",
     "shell.execute_reply.started": "2022-07-26T18:00:19.433892Z"
    },
    "tags": []
   },
   "outputs": [
    {
     "name": "stdout",
     "output_type": "stream",
     "text": [
      "[5 7 9]\n"
     ]
    }
   ],
   "source": [
    "u_np = np.array([1,2,3])\n",
    "v_np = np.array([4,5,6])\n",
    "w_np = u_np + v_np\n",
    "\n",
    "print(w_np)"
   ]
  },
  {
   "cell_type": "code",
   "execution_count": 57,
   "metadata": {
    "execution": {
     "iopub.execute_input": "2022-07-26T18:04:19.368222Z",
     "iopub.status.busy": "2022-07-26T18:04:19.368222Z",
     "iopub.status.idle": "2022-07-26T18:04:19.372222Z",
     "shell.execute_reply": "2022-07-26T18:04:19.372222Z",
     "shell.execute_reply.started": "2022-07-26T18:04:19.368222Z"
    },
    "tags": []
   },
   "outputs": [
    {
     "name": "stdout",
     "output_type": "stream",
     "text": [
      "[[12, 14, 16], [18, 20, 22], [24, 26, 28]]\n"
     ]
    }
   ],
   "source": [
    "u = [[1,2,3], [4,5,6], [7,8,9]]\n",
    "v = [[11,12,13], [14,15,16], [17,18,19]]\n",
    "w_row, w_col = len(u), len(u[0])\n",
    "\n",
    "w = [[0]*w_row for _ in range(w_col)]\n",
    "\n",
    "for r_idx in range(w_row):\n",
    "    for c_idx in range(w_col):\n",
    "        w[r_idx][c_idx] = u[r_idx][c_idx] + v[r_idx][c_idx]\n",
    "\n",
    "print(w)"
   ]
  },
  {
   "cell_type": "code",
   "execution_count": 58,
   "metadata": {
    "execution": {
     "iopub.execute_input": "2022-07-26T18:04:41.131479Z",
     "iopub.status.busy": "2022-07-26T18:04:41.131479Z",
     "iopub.status.idle": "2022-07-26T18:04:41.135477Z",
     "shell.execute_reply": "2022-07-26T18:04:41.135477Z",
     "shell.execute_reply.started": "2022-07-26T18:04:41.131479Z"
    }
   },
   "outputs": [
    {
     "name": "stdout",
     "output_type": "stream",
     "text": [
      "[[12 14 16]\n",
      " [18 20 22]\n",
      " [24 26 28]]\n"
     ]
    }
   ],
   "source": [
    "u_np = np.array(u)\n",
    "v_np = np.array(v)\n",
    "w_np = u_np + v_np\n",
    "\n",
    "print(w_np)"
   ]
  },
  {
   "cell_type": "code",
   "execution_count": null,
   "metadata": {},
   "outputs": [],
   "source": []
  }
 ],
 "metadata": {
  "kernelspec": {
   "display_name": "Python 3 (ipykernel)",
   "language": "python",
   "name": "python3"
  },
  "language_info": {
   "codemirror_mode": {
    "name": "ipython",
    "version": 3
   },
   "file_extension": ".py",
   "mimetype": "text/x-python",
   "name": "python",
   "nbconvert_exporter": "python",
   "pygments_lexer": "ipython3",
   "version": "3.9.13"
  }
 },
 "nbformat": 4,
 "nbformat_minor": 4
}
